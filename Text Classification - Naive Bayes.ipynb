{
 "cells": [
  {
   "cell_type": "markdown",
   "id": "96222957",
   "metadata": {},
   "source": [
    "## Multinomial Event Model"
   ]
  },
  {
   "cell_type": "code",
   "execution_count": 303,
   "id": "9484754f",
   "metadata": {},
   "outputs": [],
   "source": [
    "x = [\"This was an awesome movie\",\n",
    "    \"Great movie! I liked it a lot\",\n",
    "    \"Happy ending , awesome acting by hero\",\n",
    "    \"I absolutely his acting\",\n",
    "    \"Phenomenol performance by the caste\",\n",
    "    \"Surely a dissapointing movie!\",\n",
    "    \"could have been better\",\n",
    "    \"bad not upto the mark\"]\n",
    "y=[1,1,1,1,1,0,0,0]"
   ]
  },
  {
   "cell_type": "code",
   "execution_count": 304,
   "id": "4910a542",
   "metadata": {},
   "outputs": [],
   "source": [
    "x_test = [\"This movie is bad\",\n",
    "         \"I love this movie\",\n",
    "         \"I loved the movie and happy with it\"]"
   ]
  },
  {
   "cell_type": "markdown",
   "id": "40b718f6",
   "metadata": {},
   "source": [
    "## 1.Cleaning"
   ]
  },
  {
   "cell_type": "code",
   "execution_count": 305,
   "id": "4cf48443",
   "metadata": {},
   "outputs": [],
   "source": [
    "import clean_text as ct"
   ]
  },
  {
   "cell_type": "code",
   "execution_count": 306,
   "id": "1cef3bd3",
   "metadata": {},
   "outputs": [],
   "source": [
    "x_clean = [ct.getStemmedReview(i) for i in x]"
   ]
  },
  {
   "cell_type": "code",
   "execution_count": 307,
   "id": "c20ed3dd",
   "metadata": {},
   "outputs": [],
   "source": [
    "xt_clean = [ct.getStemmedReview(i) for i in x_test]"
   ]
  },
  {
   "cell_type": "code",
   "execution_count": 308,
   "id": "b6833a63",
   "metadata": {},
   "outputs": [
    {
     "data": {
      "text/plain": [
       "['movi bad', 'love movi', 'love movi happi']"
      ]
     },
     "execution_count": 308,
     "metadata": {},
     "output_type": "execute_result"
    }
   ],
   "source": [
    "xt_clean"
   ]
  },
  {
   "cell_type": "markdown",
   "id": "2afc6b96",
   "metadata": {},
   "source": [
    "## 2.Vectorization"
   ]
  },
  {
   "cell_type": "code",
   "execution_count": 309,
   "id": "332d3712",
   "metadata": {},
   "outputs": [],
   "source": [
    "from sklearn.feature_extraction.text import CountVectorizer"
   ]
  },
  {
   "cell_type": "code",
   "execution_count": 310,
   "id": "aefe791b",
   "metadata": {},
   "outputs": [],
   "source": [
    "cv= CountVectorizer()"
   ]
  },
  {
   "cell_type": "code",
   "execution_count": 311,
   "id": "417aad8a",
   "metadata": {},
   "outputs": [],
   "source": [
    "x_vec = cv.fit_transform(x_clean)"
   ]
  },
  {
   "cell_type": "code",
   "execution_count": 312,
   "id": "50da7913",
   "metadata": {},
   "outputs": [],
   "source": [
    "x_vec = x_vec.toarray()"
   ]
  },
  {
   "cell_type": "code",
   "execution_count": 313,
   "id": "3edbbcbc",
   "metadata": {},
   "outputs": [
    {
     "name": "stdout",
     "output_type": "stream",
     "text": [
      "(8, 20)\n"
     ]
    }
   ],
   "source": [
    "x_vec[0]\n",
    "print(x_vec.shape)"
   ]
  },
  {
   "cell_type": "code",
   "execution_count": 314,
   "id": "053df521",
   "metadata": {},
   "outputs": [
    {
     "name": "stderr",
     "output_type": "stream",
     "text": [
      "/home/girish/.local/lib/python3.8/site-packages/sklearn/utils/deprecation.py:87: FutureWarning: Function get_feature_names is deprecated; get_feature_names is deprecated in 1.0 and will be removed in 1.2. Please use get_feature_names_out instead.\n",
      "  warnings.warn(msg, category=FutureWarning)\n"
     ]
    },
    {
     "data": {
      "text/plain": [
       "['absolut',\n",
       " 'act',\n",
       " 'awesom',\n",
       " 'bad',\n",
       " 'better',\n",
       " 'cast',\n",
       " 'could',\n",
       " 'dissapoint',\n",
       " 'end',\n",
       " 'great',\n",
       " 'happi',\n",
       " 'hero',\n",
       " 'like',\n",
       " 'lot',\n",
       " 'mark',\n",
       " 'movi',\n",
       " 'perform',\n",
       " 'phenomenol',\n",
       " 'sure',\n",
       " 'upto']"
      ]
     },
     "execution_count": 314,
     "metadata": {},
     "output_type": "execute_result"
    }
   ],
   "source": [
    "cv.get_feature_names()"
   ]
  },
  {
   "cell_type": "code",
   "execution_count": 315,
   "id": "566cb413",
   "metadata": {},
   "outputs": [],
   "source": [
    "#Applying tranfrom for X_test \n",
    "\n",
    "# We can't apply fit transform because it will change the vectororizer for test\n",
    "\n",
    "\n",
    "xt_vec = cv.transform(xt_clean)"
   ]
  },
  {
   "cell_type": "code",
   "execution_count": 316,
   "id": "f3e13e02",
   "metadata": {},
   "outputs": [
    {
     "data": {
      "text/plain": [
       "['absolut',\n",
       " 'act',\n",
       " 'awesom',\n",
       " 'bad',\n",
       " 'better',\n",
       " 'cast',\n",
       " 'could',\n",
       " 'dissapoint',\n",
       " 'end',\n",
       " 'great',\n",
       " 'happi',\n",
       " 'hero',\n",
       " 'like',\n",
       " 'lot',\n",
       " 'mark',\n",
       " 'movi',\n",
       " 'perform',\n",
       " 'phenomenol',\n",
       " 'sure',\n",
       " 'upto']"
      ]
     },
     "execution_count": 316,
     "metadata": {},
     "output_type": "execute_result"
    }
   ],
   "source": [
    "cv.get_feature_names()\n",
    "\n",
    "# Now you casn see that vectorizer is same"
   ]
  },
  {
   "cell_type": "code",
   "execution_count": 317,
   "id": "eea71e7e",
   "metadata": {},
   "outputs": [
    {
     "name": "stdout",
     "output_type": "stream",
     "text": [
      "[[0 0 0 1 0 0 0 0 0 0 0 0 0 0 0 1 0 0 0 0]\n",
      " [0 0 0 0 0 0 0 0 0 0 0 0 0 0 0 1 0 0 0 0]\n",
      " [0 0 0 0 0 0 0 0 0 0 1 0 0 0 0 1 0 0 0 0]]\n",
      "(3, 20)\n"
     ]
    }
   ],
   "source": [
    "xt_vec = xt_vec.toarray()\n",
    "print(xt_vec)\n",
    "print(xt_vec.shape)"
   ]
  },
  {
   "cell_type": "markdown",
   "id": "8b6dc52c",
   "metadata": {},
   "source": [
    "## Multinomial Naive Bayes "
   ]
  },
  {
   "cell_type": "code",
   "execution_count": 318,
   "id": "c1cb4821",
   "metadata": {},
   "outputs": [],
   "source": [
    "from sklearn.naive_bayes import MultinomialNB"
   ]
  },
  {
   "cell_type": "code",
   "execution_count": 319,
   "id": "a14f472e",
   "metadata": {},
   "outputs": [],
   "source": [
    "mnb = MultinomialNB()"
   ]
  },
  {
   "cell_type": "code",
   "execution_count": 320,
   "id": "12c2600e",
   "metadata": {},
   "outputs": [
    {
     "data": {
      "text/plain": [
       "MultinomialNB()"
      ]
     },
     "execution_count": 320,
     "metadata": {},
     "output_type": "execute_result"
    }
   ],
   "source": [
    "mnb.fit(x_vec,y)"
   ]
  },
  {
   "cell_type": "code",
   "execution_count": 321,
   "id": "cc5fba55",
   "metadata": {},
   "outputs": [
    {
     "data": {
      "text/plain": [
       "array([0, 1, 1])"
      ]
     },
     "execution_count": 321,
     "metadata": {},
     "output_type": "execute_result"
    }
   ],
   "source": [
    "mnb.predict(xt_vec)"
   ]
  },
  {
   "cell_type": "code",
   "execution_count": 322,
   "id": "46fff830",
   "metadata": {},
   "outputs": [],
   "source": [
    "#Now we can verify from above our prediction is correct"
   ]
  },
  {
   "cell_type": "markdown",
   "id": "801a44cf",
   "metadata": {},
   "source": [
    "## Multivariate Binomial "
   ]
  },
  {
   "cell_type": "code",
   "execution_count": 323,
   "id": "e64085b8",
   "metadata": {},
   "outputs": [],
   "source": [
    "from sklearn.naive_bayes import BernoulliNB"
   ]
  },
  {
   "cell_type": "code",
   "execution_count": 324,
   "id": "d156bbbf",
   "metadata": {},
   "outputs": [],
   "source": [
    "bnb = BernoulliNB()"
   ]
  },
  {
   "cell_type": "code",
   "execution_count": 325,
   "id": "16fb2e7d",
   "metadata": {},
   "outputs": [
    {
     "data": {
      "text/plain": [
       "BernoulliNB()"
      ]
     },
     "execution_count": 325,
     "metadata": {},
     "output_type": "execute_result"
    }
   ],
   "source": [
    "bnb.fit(x_vec,y)"
   ]
  },
  {
   "cell_type": "code",
   "execution_count": 326,
   "id": "33f38b0e",
   "metadata": {},
   "outputs": [
    {
     "data": {
      "text/plain": [
       "array([0, 1, 1])"
      ]
     },
     "execution_count": 326,
     "metadata": {},
     "output_type": "execute_result"
    }
   ],
   "source": [
    "bnb.predict(xt_vec)"
   ]
  },
  {
   "cell_type": "code",
   "execution_count": 327,
   "id": "c68a2567",
   "metadata": {},
   "outputs": [
    {
     "data": {
      "text/plain": [
       "1.0"
      ]
     },
     "execution_count": 327,
     "metadata": {},
     "output_type": "execute_result"
    }
   ],
   "source": [
    "bnb.score(x_vec,y)"
   ]
  },
  {
   "cell_type": "code",
   "execution_count": 328,
   "id": "19af78f4",
   "metadata": {},
   "outputs": [
    {
     "data": {
      "text/plain": [
       "array([[0.52896319, 0.47103681],\n",
       "       [0.21920389, 0.78079611],\n",
       "       [0.14927288, 0.85072712]])"
      ]
     },
     "execution_count": 328,
     "metadata": {},
     "output_type": "execute_result"
    }
   ],
   "source": [
    "bnb.predict_proba(xt_vec)"
   ]
  },
  {
   "cell_type": "code",
   "execution_count": null,
   "id": "6c78c959",
   "metadata": {},
   "outputs": [],
   "source": []
  }
 ],
 "metadata": {
  "kernelspec": {
   "display_name": "Python 3 (ipykernel)",
   "language": "python",
   "name": "python3"
  },
  "language_info": {
   "codemirror_mode": {
    "name": "ipython",
    "version": 3
   },
   "file_extension": ".py",
   "mimetype": "text/x-python",
   "name": "python",
   "nbconvert_exporter": "python",
   "pygments_lexer": "ipython3",
   "version": "3.8.10"
  }
 },
 "nbformat": 4,
 "nbformat_minor": 5
}
